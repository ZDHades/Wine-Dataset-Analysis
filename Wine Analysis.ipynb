{
 "cells": [
  {
   "cell_type": "markdown",
   "metadata": {},
   "source": [
    "# Things to check and questions:\n",
    "\n",
    "* number of samples in each dataset\n",
    "* number of columns in each dataset\n",
    "* features with missing values\n",
    "* duplicate rows in the white wine dataset\n",
    "* number of unique values for quality in each dataset\n",
    "* mean density of the red wine dataset"
   ]
  },
  {
   "cell_type": "code",
   "execution_count": 1,
   "metadata": {},
   "outputs": [],
   "source": [
    "import pandas as pd\n",
    "import numpy as np\n",
    "import matplotlib.pyplot as plt"
   ]
  },
  {
   "cell_type": "code",
   "execution_count": 2,
   "metadata": {},
   "outputs": [],
   "source": [
    "white_df = pd.read_csv('winequality-white.csv', sep=';')\n",
    "red_df = pd.read_csv('winequality-red.csv', sep=';')"
   ]
  },
  {
   "cell_type": "code",
   "execution_count": 3,
   "metadata": {},
   "outputs": [
    {
     "name": "stdout",
     "output_type": "stream",
     "text": [
      "There are 4898 samples in the white wine dataset\n",
      "There are 1599 samples in the red wine dataset\n"
     ]
    }
   ],
   "source": [
    "print(f'There are {white_df.shape[0]} samples in the white wine dataset')\n",
    "print(f'There are {red_df.shape[0]} samples in the red wine dataset')"
   ]
  },
  {
   "cell_type": "code",
   "execution_count": 4,
   "metadata": {},
   "outputs": [
    {
     "name": "stdout",
     "output_type": "stream",
     "text": [
      "There are 12 columns in both datasets\n"
     ]
    }
   ],
   "source": [
    "print(f'There are {white_df.shape[1]} columns in both datasets')"
   ]
  },
  {
   "cell_type": "code",
   "execution_count": 5,
   "metadata": {},
   "outputs": [
    {
     "name": "stdout",
     "output_type": "stream",
     "text": [
      "There are no features with missing values\n"
     ]
    }
   ],
   "source": [
    "print(\"There are no features with missing values\")"
   ]
  },
  {
   "cell_type": "code",
   "execution_count": 6,
   "metadata": {},
   "outputs": [
    {
     "name": "stdout",
     "output_type": "stream",
     "text": [
      "240 duplicates in the red wine dataset.\n",
      "937 duplicates in the whitewine dataset.\n",
      "This is a significant amount of duplicates, may need to be cleaned up.\n"
     ]
    }
   ],
   "source": [
    "# Look for duplicates\n",
    "print(f'{red_df.duplicated().sum()} duplicates in the red wine dataset.')\n",
    "print(f'{white_df.duplicated().sum()} duplicates in the whitewine dataset.')\n",
    "print(\"This is a significant amount of duplicates, may need to be cleaned up.\")"
   ]
  },
  {
   "cell_type": "code",
   "execution_count": 7,
   "metadata": {},
   "outputs": [
    {
     "name": "stdout",
     "output_type": "stream",
     "text": [
      "Datasets Merged\n"
     ]
    }
   ],
   "source": [
    "# Setting up to merge the two data sets by creating a column to seperate the two dataframes\n",
    "# Method 1\n",
    "red_df['type'] = 'red'\n",
    "# Method 2\n",
    "color_white = np.repeat('white', len(white_df))\n",
    "white_df['type'] = color_white\n",
    "# Merge the two sets\n",
    "wine_df = red_df.append(white_df, ignore_index=True)\n",
    "print(\"Datasets Merged\")"
   ]
  },
  {
   "cell_type": "code",
   "execution_count": 8,
   "metadata": {},
   "outputs": [
    {
     "name": "stdout",
     "output_type": "stream",
     "text": [
      "Saved\n"
     ]
    }
   ],
   "source": [
    "# Always save your data!\n",
    "wine_df.to_csv('winequality_edited.csv', index=False)\n",
    "print(\"Saved\")"
   ]
  },
  {
   "cell_type": "code",
   "execution_count": 9,
   "metadata": {},
   "outputs": [
    {
     "name": "stdout",
     "output_type": "stream",
     "text": [
      "Column names updated\n"
     ]
    }
   ],
   "source": [
    "# Change the names of the columns\n",
    "wine_df = wine_df.rename(columns=lambda x:x.replace(' ', '_'))\n",
    "print(\"Column names updated\")"
   ]
  },
  {
   "cell_type": "code",
   "execution_count": 10,
   "metadata": {},
   "outputs": [
    {
     "name": "stdout",
     "output_type": "stream",
     "text": [
      "type\n",
      "red      5.636023\n",
      "white    5.877909\n",
      "Name: quality, dtype: float64\n",
      "On average the White Wines have a higher mean than the Red Wines\n"
     ]
    }
   ],
   "source": [
    "# Find the mean of each type of wine\n",
    "print(f\"{wine_df.groupby(['type']).quality.mean()}\")\n",
    "print(\"On average the White Wines have a higher mean than the Red Wines\")"
   ]
  },
  {
   "cell_type": "code",
   "execution_count": 11,
   "metadata": {},
   "outputs": [
    {
     "name": "stdout",
     "output_type": "stream",
     "text": [
      "Column added\n"
     ]
    }
   ],
   "source": [
    "# Add a column for acidity ranges so they can be put into a histogram\n",
    "acidity_ranges = list(wine_df.describe().pH[3:9])\n",
    "bin_labels = ['high', 'medium', 'mild', 'low']\n",
    "wine_df['acidity_levels'] = pd.cut(wine_df.pH, acidity_ranges, labels=bin_labels)\n",
    "wine_df.head()\n",
    "print(\"Column added\")"
   ]
  },
  {
   "cell_type": "code",
   "execution_count": 12,
   "metadata": {
    "scrolled": true
   },
   "outputs": [
    {
     "data": {
      "text/plain": [
       "acidity_levels\n",
       "high      5.78\n",
       "medium    5.78\n",
       "mild      5.85\n",
       "low       5.86\n",
       "Name: quality, dtype: float64"
      ]
     },
     "execution_count": 12,
     "metadata": {},
     "output_type": "execute_result"
    }
   ],
   "source": [
    "# The mean of the quality given to the wines grouped by categorical analysis of pH levels\n",
    "round(wine_df.groupby('acidity_levels').quality.mean(), 2)"
   ]
  },
  {
   "cell_type": "code",
   "execution_count": 13,
   "metadata": {},
   "outputs": [
    {
     "name": "stdout",
     "output_type": "stream",
     "text": [
      "The average quality for high alcohol content wine is 6.15\n",
      "The average quality for low alcohol content wine is 5.48\n"
     ]
    }
   ],
   "source": [
    "# Determine the average quality by alcohol content\n",
    "alcohol_median = wine_df.alcohol.median()\n",
    "# Select samples with alcohol content higher than the median\n",
    "high_alcohol = wine_df.query(f'alcohol >= {alcohol_median}')\n",
    "print(f'The average quality for high alcohol content wine is {round(high_alcohol.quality.mean(), 2)}')\n",
    "# Select samples with alcohol content less than the median \n",
    "alcohol_median = wine_df.alcohol.median()\n",
    "low_alcohol = wine_df.query(f'alcohol < {alcohol_median}')\n",
    "print(f'The average quality for low alcohol content wine is {round(low_alcohol.quality.mean(), 2)}')"
   ]
  },
  {
   "cell_type": "code",
   "execution_count": 14,
   "metadata": {},
   "outputs": [
    {
     "name": "stdout",
     "output_type": "stream",
     "text": [
      "The average quality for high residual sugar content wine is 5.83\n",
      "The average quality for low residual sugar content wine is 5.81\n"
     ]
    }
   ],
   "source": [
    "# Determine the average quality of wine by their residual sugar content\n",
    "residual_sugar_median = wine_df.residual_sugar.median()\n",
    "# Select samples with residual sugar content higher than the median\n",
    "high_sugar = wine_df.query(f'residual_sugar >= {residual_sugar_median}')\n",
    "print(f'The average quality for high residual sugar content wine is {round(high_sugar.quality.mean(), 2)}')\n",
    "# Select samples with residual sugar content less than the median \n",
    "low_sugar = wine_df.query(f'residual_sugar < {residual_sugar_median}')\n",
    "print(f'The average quality for low residual sugar content wine is {round(low_sugar.quality.mean(), 2)}')"
   ]
  },
  {
   "cell_type": "code",
   "execution_count": 15,
   "metadata": {},
   "outputs": [
    {
     "data": {
      "image/png": "[encoded data removed]",
      "text/plain": [
       "<Figure size 432x288 with 1 Axes>"
      ]
     },
     "metadata": {
      "needs_background": "light"
     },
     "output_type": "display_data"
    }
   ],
   "source": [
    "# create a bar graph for quality vs. color\n",
    "labels_list = ['red', 'blue']\n",
    "wine_averages = wine_df.groupby('type').quality.mean()\n",
    "wine_averages.plot(kind='bar', color=labels_list)\n",
    "plt.title('Average Wine Quality By Color', color='white')\n",
    "plt.xlabel('Color', color=\"White\")\n",
    "plt.ylabel('Quality', color=\"White\")\n",
    "plt.show()"
   ]
  },
  {
   "cell_type": "code",
   "execution_count": 16,
   "metadata": {},
   "outputs": [
    {
     "data": {
      "image/png": "[encoded data removed]",
      "text/plain": [
       "<Figure size 432x288 with 12 Axes>"
      ]
     },
     "metadata": {
      "needs_background": "light"
     },
     "output_type": "display_data"
    }
   ],
   "source": [
    "wine_df.hist();"
   ]
  },
  {
   "cell_type": "code",
   "execution_count": 17,
   "metadata": {},
   "outputs": [],
   "source": [
    "# create a dataframe of the high v low sugar means\n",
    "sugar_df = pd.DataFrame({'lab': ['high_sugar', 'low_sugar'], 'value': [round(high_sugar.quality.mean(), 2), round(low_sugar.quality.mean(), 2)]})"
   ]
  },
  {
   "cell_type": "code",
   "execution_count": 18,
   "metadata": {},
   "outputs": [],
   "source": [
    "# create a dataframe of the high v low alcohol means\n",
    "alcohol_df = pd.DataFrame({'lab': ['high_alcohol', 'low_alcohol'], 'value': [round(high_alcohol.quality.mean(), 2), round(low_alcohol.quality.mean(), 2)]})"
   ]
  },
  {
   "cell_type": "code",
   "execution_count": 19,
   "metadata": {},
   "outputs": [
    {
     "data": {
      "text/plain": [
       "<matplotlib.axes._subplots.AxesSubplot at 0x9ba26b8>"
      ]
     },
     "execution_count": 19,
     "metadata": {},
     "output_type": "execute_result"
    },
    {
     "data": {
      "image/png": "[encoded data removed]",
      "text/plain": [
       "<Figure size 432x288 with 1 Axes>"
      ]
     },
     "metadata": {
      "needs_background": "light"
     },
     "output_type": "display_data"
    }
   ],
   "source": [
    "# plot of the alcohol df\n",
    "alcohol_df.plot.bar(x='lab', y='value')"
   ]
  },
  {
   "cell_type": "code",
   "execution_count": 20,
   "metadata": {},
   "outputs": [
    {
     "data": {
      "text/plain": [
       "<matplotlib.axes._subplots.AxesSubplot at 0x9c1f760>"
      ]
     },
     "execution_count": 20,
     "metadata": {},
     "output_type": "execute_result"
    },
    {
     "data": {
      "image/png": "[encoded data removed]",
      "text/plain": [
       "<Figure size 432x288 with 1 Axes>"
      ]
     },
     "metadata": {
      "needs_background": "light"
     },
     "output_type": "display_data"
    }
   ],
   "source": [
    "# plot of the sugar df\n",
    "sugar_df.plot.bar(x='lab', y='value')"
   ]
  },
  {
   "cell_type": "markdown",
   "metadata": {},
   "source": [
    "## Which types of wines&mdash;red or white&mdash;are associated with higher quality? "
   ]
  }
 ],
 "metadata": {
  "kernelspec": {
   "display_name": "Python 3",
   "language": "python",
   "name": "python3"
  },
  "language_info": {
   "codemirror_mode": {
    "name": "ipython",
    "version": 3
   },
   "file_extension": ".py",
   "mimetype": "text/x-python",
   "name": "python",
   "nbconvert_exporter": "python",
   "pygments_lexer": "ipython3",
   "version": "3.8.3"
  }
 },
 "nbformat": 4,
 "nbformat_minor": 2
}
